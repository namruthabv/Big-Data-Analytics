{
 "cells": [
  {
   "cell_type": "markdown",
   "metadata": {
    "deletable": true,
    "editable": true
   },
   "source": [
    "# QUESTION - 2"
   ]
  },
  {
   "cell_type": "markdown",
   "metadata": {
    "deletable": true,
    "editable": true
   },
   "source": [
    "## Predicting happiness ranking of countries by using Linear Regression Model."
   ]
  },
  {
   "cell_type": "markdown",
   "metadata": {
    "deletable": true,
    "editable": true
   },
   "source": [
    "Dependency python packages : pandas, matplotlib and numpy"
   ]
  },
  {
   "cell_type": "markdown",
   "metadata": {
    "deletable": true,
    "editable": true
   },
   "source": [
    "### METHODOLOGY FOLLOWED : \n",
    "- Happiness Rank is inversly Related to the Happiness Score. Therefore Prediction model is built based on Happiness Score of countries.\n",
    "- Approximate Happiness Rank is forecasted on predicted Happiness Score."
   ]
  },
  {
   "cell_type": "code",
   "execution_count": null,
   "metadata": {
    "collapsed": true,
    "deletable": true,
    "editable": true
   },
   "outputs": [],
   "source": [
    "#Importing the pandas, matplotlib and numpy libraries\n",
    "import pandas as pd\n",
    "import matplotlib.pyplot as plt\n",
    "import numpy as np"
   ]
  },
  {
   "cell_type": "markdown",
   "metadata": {
    "deletable": true,
    "editable": true
   },
   "source": [
    "Loading and displaying data of 2015 dataset:"
   ]
  },
  {
   "cell_type": "code",
   "execution_count": null,
   "metadata": {
    "collapsed": true,
    "deletable": true,
    "editable": true
   },
   "outputs": [],
   "source": [
    "data_frame = pd.read_csv('WH_2015.csv', header = 0)\n",
    "data_frame.head(5)\n",
    "#data_frame.columns"
   ]
  },
  {
   "cell_type": "markdown",
   "metadata": {
    "deletable": true,
    "editable": true
   },
   "source": [
    "To show Happiness Score and Happiness Rank are closely Inversly related:"
   ]
  },
  {
   "cell_type": "code",
   "execution_count": null,
   "metadata": {
    "collapsed": true,
    "deletable": true,
    "editable": true
   },
   "outputs": [],
   "source": [
    "y_var=data_frame['Happiness Score']\n",
    "rank_var=data_frame['Happiness Rank']\n",
    "plt.scatter(rank_var,y_var)\n",
    "plt.xlabel('Happiness Rank')\n",
    "plt.ylabel('Happiness Score')\n",
    "plt.title('Happiness Rank v/s Happiness Score',  fontsize=18)\n",
    "plt.show()"
   ]
  },
  {
   "cell_type": "markdown",
   "metadata": {
    "deletable": true,
    "editable": true
   },
   "source": [
    "- Eliminating features like: 'Happiness Score','Happiness Rank','Country','Region', and 'Standard Error' <br>\n",
    "Justification : \n",
    "    - 'Happiness Score' need to predicted.\n",
    "    - 'Happiness Rank' as strong correlation with 'Happiness Score'\n",
    "    - 'Country,'Region' does not bear significance in predicting 'Happiness Rank'\n",
    "    - 'Standard Error' to Generalize and has lesser significance\n",
    "- Importing sklearn libraries for spliting and dataset into training and testing datasets\n",
    "- Applying Linear Regression\n",
    "- Capturing Predicted Results"
   ]
  },
  {
   "cell_type": "code",
   "execution_count": null,
   "metadata": {
    "collapsed": true,
    "deletable": true,
    "editable": true
   },
   "outputs": [],
   "source": [
    "#Eliminating features like: 'Happiness Score','Happiness Rank','Country','Region' and 'Standard Error'\n",
    "X_var = data_frame.drop(['Happiness Score','Happiness Rank','Country','Region','Standard Error'],axis=1)\n",
    "\n",
    "#Importing sklearn libraries\n",
    "from sklearn.model_selection import train_test_split\n",
    "from sklearn.linear_model import LinearRegression\n",
    "\n",
    "#Spliting and dataset into training and testing datasets\n",
    "x_train,x_test,y_train,y_test = train_test_split(X_var,y_var,test_size=0.2,random_state=101)\n",
    "\n",
    "#Applying Linear Regression\n",
    "lm=LinearRegression()\n",
    "lm.fit(x_train,y_train)\n",
    "\n",
    "#Capturing Predicted Results\n",
    "y_predict=lm.predict(x_test)\n",
    "\n",
    "#lm.predict(x_test)\n",
    "x_test.shape"
   ]
  },
  {
   "cell_type": "markdown",
   "metadata": {
    "deletable": true,
    "editable": true
   },
   "source": [
    "Dataframe creation for : Actual test value, Predicted value, and difference b/w Actual and Predicted Values:"
   ]
  },
  {
   "cell_type": "code",
   "execution_count": null,
   "metadata": {
    "collapsed": true,
    "deletable": true,
    "editable": true
   },
   "outputs": [],
   "source": [
    "result_rf_train=pd.DataFrame({\n",
    "    'Actual':y_test,\n",
    "    'Predict':y_predict,\n",
    "    'diff': y_test - y_predict\n",
    "})\n",
    "result_rf_train.head(5)"
   ]
  },
  {
   "cell_type": "markdown",
   "metadata": {
    "deletable": true,
    "editable": true
   },
   "source": [
    "Happiness Score in dataframe and Predicted Happiness score are rounded to decimal - 2 to find the approximate Happiness Ranking of Countries:"
   ]
  },
  {
   "cell_type": "code",
   "execution_count": null,
   "metadata": {
    "collapsed": true,
    "deletable": true,
    "editable": true
   },
   "outputs": [],
   "source": [
    "#Creating new Dataframe with 'Country', 'Region', 'Happiness Rank', 'Happiness Score'\n",
    "new_df = data_frame.drop(['Standard Error','Trust (Government Corruption)','Economy (GDP per Capita)','Family','Health (Life Expectancy)','Freedom','Generosity','Dystopia Residual'], axis=1)\n",
    "\n",
    "#Happiness Scores are Rounded to decimal-2 and dataframe with predicted value are fetched.\n",
    "new_df[round(new_df['Happiness Score'],2) == round(y_predict[1],2)]\n",
    "for val in y_predict:\n",
    "    #print(round(val,2))\n",
    "    print(new_df[round(new_df['Happiness Score'],2) == round(val,2)])"
   ]
  },
  {
   "cell_type": "markdown",
   "metadata": {
    "deletable": true,
    "editable": true
   },
   "source": [
    "\n",
    "\n",
    "Ploting the actual-test values against predicted values"
   ]
  },
  {
   "cell_type": "code",
   "execution_count": null,
   "metadata": {
    "collapsed": true,
    "deletable": true,
    "editable": true
   },
   "outputs": [],
   "source": [
    "plt.scatter(y_test,y_predict)\n",
    "plt.xlabel('Actaul(test) happy_score')\n",
    "plt.ylabel('Predicted happy_score')\n",
    "plt.title('Actual test Happiness Score v/s Predicted Happiness Score', fontsize=18)\n",
    "plt.show()"
   ]
  },
  {
   "cell_type": "markdown",
   "metadata": {
    "deletable": true,
    "editable": true
   },
   "source": [
    "Coefficients of correlated features with Happiness Score"
   ]
  },
  {
   "cell_type": "code",
   "execution_count": null,
   "metadata": {
    "collapsed": true,
    "deletable": true,
    "editable": true
   },
   "outputs": [],
   "source": [
    "coefficients=pd.DataFrame(lm.coef_,X_var.columns)\n",
    "coefficients"
   ]
  },
  {
   "cell_type": "markdown",
   "metadata": {
    "deletable": true,
    "editable": true
   },
   "source": [
    "Evaluating model with Mean Absolute Error, Mean Squared Error and Root Mean Squared Error"
   ]
  },
  {
   "cell_type": "code",
   "execution_count": null,
   "metadata": {
    "collapsed": true,
    "deletable": true,
    "editable": true
   },
   "outputs": [],
   "source": [
    "from sklearn import metrics\n",
    "\n",
    "print('Mean Absolute Error:', metrics.mean_absolute_error(y_test, y_predict))\n",
    "print('Mean Squared Error:', metrics.mean_squared_error(y_test, y_predict))\n",
    "print('Root Mean Squared Error:', np.sqrt(metrics.mean_squared_error(y_test, y_predict)))"
   ]
  },
  {
   "cell_type": "markdown",
   "metadata": {
    "deletable": true,
    "editable": true
   },
   "source": [
    "## Using SAME Model for 2016 and 2017 dataset:"
   ]
  },
  {
   "cell_type": "markdown",
   "metadata": {
    "deletable": true,
    "editable": true
   },
   "source": [
    "### Structure/features of all these datasets varies, hence maintained the same generic features across all these datasets (2015,2016, and 2017)"
   ]
  },
  {
   "cell_type": "code",
   "execution_count": null,
   "metadata": {
    "collapsed": true,
    "deletable": true,
    "editable": true
   },
   "outputs": [],
   "source": [
    "#Loading 2016 and 2017 dataset:\n",
    "df_2016 = pd.read_csv('WH_2016.csv', header = 0)\n",
    "df_2017 = pd.read_csv('WH_2017.csv', header = 0)\n",
    "df_2016.head(5)"
   ]
  },
  {
   "cell_type": "code",
   "execution_count": null,
   "metadata": {
    "collapsed": true,
    "deletable": true,
    "editable": true
   },
   "outputs": [],
   "source": [
    "#Displaying sample of 2017 dataset\n",
    "df_2017.head(5)"
   ]
  },
  {
   "cell_type": "markdown",
   "metadata": {
    "deletable": true,
    "editable": true
   },
   "source": [
    "- Eliminating features in 2016 dataset to fit generic model.\n",
    "- Applied prediction on dataset"
   ]
  },
  {
   "cell_type": "code",
   "execution_count": null,
   "metadata": {
    "collapsed": true,
    "deletable": true,
    "editable": true
   },
   "outputs": [],
   "source": [
    "#Eliminating features like: 'Happiness Score','Happiness Rank','Country','Region','Lower Confidence Interval','Upper Confidence Interval'\n",
    "y_2016 = df_2016['Happiness Score']\n",
    "X_2016 = df_2016.drop(['Happiness Score','Happiness Rank','Country','Region','Lower Confidence Interval','Upper Confidence Interval'],axis=1)\n",
    "\n",
    "predict_2016=lm.predict(X_2016)"
   ]
  },
  {
   "cell_type": "markdown",
   "metadata": {
    "deletable": true,
    "editable": true
   },
   "source": [
    "- Eliminating features in 2017 dataset to fit generic model.\n",
    "- Applied prediction on dataset"
   ]
  },
  {
   "cell_type": "code",
   "execution_count": null,
   "metadata": {
    "collapsed": true,
    "deletable": true,
    "editable": true
   },
   "outputs": [],
   "source": [
    "#Eliminating features like: 'Happiness Score','Happiness Rank','Country','Whisker.high','Whisker.low'\n",
    "y_2017 = df_2017['Happiness.Score']\n",
    "X_2017 = df_2017.drop(['Happiness.Score','Happiness.Rank','Country','Whisker.high','Whisker.low'],axis=1)\n",
    "\n",
    "predict_2017=lm.predict(X_2017)"
   ]
  },
  {
   "cell_type": "markdown",
   "metadata": {
    "deletable": true,
    "editable": true
   },
   "source": [
    "Displaying variations in predicted and actual test data for 2016 dataset"
   ]
  },
  {
   "cell_type": "code",
   "execution_count": null,
   "metadata": {
    "collapsed": true,
    "deletable": true,
    "editable": true
   },
   "outputs": [],
   "source": [
    "result_rf_train1=pd.DataFrame({\n",
    "    'Actual 2016':y_2016,\n",
    "    'Predict 2016':predict_2016,\n",
    "    'diff - 2016': y_2016 - predict_2016\n",
    "})\n",
    "result_rf_train1.head(5)"
   ]
  },
  {
   "cell_type": "markdown",
   "metadata": {
    "deletable": true,
    "editable": true
   },
   "source": [
    "Displaying variations in predicted and actual test data for 2017 dataset"
   ]
  },
  {
   "cell_type": "code",
   "execution_count": null,
   "metadata": {
    "collapsed": true,
    "deletable": true,
    "editable": true
   },
   "outputs": [],
   "source": [
    "result_rf_train1=pd.DataFrame({\n",
    "    'Actual 2017':y_2017,\n",
    "    'Predict 2017':predict_2017,\n",
    "    'diff - 2017': y_2017 - predict_2017\n",
    "})\n",
    "result_rf_train1.head(5)"
   ]
  }
 ],
 "metadata": {
  "kernelspec": {
   "display_name": "Python 2",
   "language": "python",
   "name": "python2"
  },
  "language_info": {
   "codemirror_mode": {
    "name": "ipython",
    "version": 2
   },
   "file_extension": ".py",
   "mimetype": "text/x-python",
   "name": "python",
   "nbconvert_exporter": "python",
   "pygments_lexer": "ipython2",
   "version": "2.7.13"
  }
 },
 "nbformat": 4,
 "nbformat_minor": 2
}
