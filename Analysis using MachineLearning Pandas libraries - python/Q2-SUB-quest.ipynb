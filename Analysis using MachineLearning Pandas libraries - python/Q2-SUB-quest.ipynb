{
 "cells": [
  {
   "cell_type": "markdown",
   "metadata": {
    "deletable": true,
    "editable": true
   },
   "source": [
    "# Solution for subquestions in 2 question"
   ]
  },
  {
   "cell_type": "markdown",
   "metadata": {
    "deletable": true,
    "editable": true
   },
   "source": [
    "<b> Dependency python packages: pandas, seaborn, matplotlib </b>"
   ]
  },
  {
   "cell_type": "code",
   "execution_count": null,
   "metadata": {
    "collapsed": true,
    "deletable": true,
    "editable": true
   },
   "outputs": [],
   "source": [
    "#Importing the pandas and matplotlib libraries\n",
    "import pandas as pd\n",
    "import matplotlib.pyplot as plt"
   ]
  },
  {
   "cell_type": "markdown",
   "metadata": {
    "deletable": true,
    "editable": true
   },
   "source": [
    "Three DataFrames are created based on 2015, 2016, and 2017 datasets."
   ]
  },
  {
   "cell_type": "code",
   "execution_count": null,
   "metadata": {
    "collapsed": true,
    "deletable": true,
    "editable": true
   },
   "outputs": [],
   "source": [
    "df_2015 = pd.read_csv('WH_2015.csv', header = 0)\n",
    "df_2016 = pd.read_csv('WH_2016.csv', header = 0)\n",
    "df_2017 = pd.read_csv('WH_2017.csv', header = 0)\n",
    "#To Check the sample of 2015 dataset:\n",
    "df_2015.head(5)"
   ]
  },
  {
   "cell_type": "code",
   "execution_count": null,
   "metadata": {
    "collapsed": true,
    "deletable": true,
    "editable": true
   },
   "outputs": [],
   "source": [
    "#To Check the sample of 2017 dataset:\n",
    "df_2017.head(5)"
   ]
  },
  {
   "cell_type": "markdown",
   "metadata": {
    "deletable": true,
    "editable": true
   },
   "source": [
    "### Note: \n",
    "In 2015 and 2017 datasets column names are different and hence renaming the columns inorder to fit the same dataframe can be avoided.\n",
    "* Happiness Rank - In 2015\n",
    "* Happiness.Rank - In 2017\n",
    "\n",
    "Creating new dataframe consisting of:<br>\n",
    "<b> |Country | Happiness Rank (2015) | Happiness.Rank (2017)</b>"
   ]
  },
  {
   "cell_type": "code",
   "execution_count": null,
   "metadata": {
    "collapsed": true,
    "deletable": true,
    "editable": true
   },
   "outputs": [],
   "source": [
    "new_2015 = df_2015[['Country', 'Happiness Rank']]\n",
    "new_2017 = df_2017[['Country', 'Happiness.Rank']]\n",
    "result = pd.merge(new_2015,new_2017,on='Country')\n",
    "result.head(6)"
   ]
  },
  {
   "cell_type": "markdown",
   "metadata": {
    "deletable": true,
    "editable": true
   },
   "source": [
    "Calculating the variation/difference in Happiness Ranking from 2015 to 2017. <br>\n",
    "<b>Happiness-diff = Happiness.Rank (2017) - Happiness Rank (2015)</b>"
   ]
  },
  {
   "cell_type": "code",
   "execution_count": null,
   "metadata": {
    "collapsed": true,
    "deletable": true,
    "editable": true
   },
   "outputs": [],
   "source": [
    "result['Happiness-diff'] = result['Happiness.Rank'] - result['Happiness Rank']\n",
    "result.head(6)"
   ]
  },
  {
   "cell_type": "markdown",
   "metadata": {
    "deletable": true,
    "editable": true
   },
   "source": [
    "### 1. Country’s happiness ranking increased the most"
   ]
  },
  {
   "cell_type": "code",
   "execution_count": null,
   "metadata": {
    "collapsed": true,
    "deletable": true,
    "editable": true
   },
   "outputs": [],
   "source": [
    "#Obtained by using max function on 'Happiness-diff' attribute.\n",
    "result['Happiness-diff'].max()\n",
    "result[result['Happiness-diff'] == result['Happiness-diff'].max()]"
   ]
  },
  {
   "cell_type": "markdown",
   "metadata": {
    "deletable": true,
    "editable": true
   },
   "source": [
    "### 2. Country’s happiness ranking decreased the most"
   ]
  },
  {
   "cell_type": "code",
   "execution_count": null,
   "metadata": {
    "collapsed": true,
    "deletable": true,
    "editable": true
   },
   "outputs": [],
   "source": [
    "#Obtained by using min function on 'Happiness-diff' attribute.\n",
    "result[result['Happiness-diff'] == result['Happiness-diff'].min()]"
   ]
  },
  {
   "cell_type": "markdown",
   "metadata": {
    "deletable": true,
    "editable": true
   },
   "source": [
    "#### Graphical representation of variation in Happiness Rank from 2015 to 2017:"
   ]
  },
  {
   "cell_type": "code",
   "execution_count": null,
   "metadata": {
    "collapsed": true,
    "deletable": true,
    "editable": true
   },
   "outputs": [],
   "source": [
    "fig = plt.figure()\n",
    "plt.plot(result['Happiness Rank'], 'b', label='2015')\n",
    "plt.plot(result['Happiness.Rank'], 'g', label='2017')\n",
    "fig.suptitle('Happiness Rank of 2015 (Blue) & 2017 (Green)', fontsize=18)\n",
    "plt.xlabel('Happiness-Rank', fontsize=16)\n",
    "plt.ylabel('Happiness-Rank', fontsize=16)\n",
    "plt.show()"
   ]
  },
  {
   "cell_type": "markdown",
   "metadata": {
    "deletable": true,
    "editable": true
   },
   "source": [
    "###  3. For each year, ranking of the continents based on Happiness Rank"
   ]
  },
  {
   "cell_type": "markdown",
   "metadata": {
    "deletable": true,
    "editable": true
   },
   "source": [
    "### Happiest continents ranking in 2015"
   ]
  },
  {
   "cell_type": "markdown",
   "metadata": {
    "deletable": true,
    "editable": true
   },
   "source": [
    "Calculating Happiness Ranking of continents based on Median statistics <br>\n",
    "<b>Justifictaion:</b> Mean is not a good statistical measure as it is affected by extreme values (outliers). Hence used median statistics to comeup with 'Happiness Rank' for continents."
   ]
  },
  {
   "cell_type": "code",
   "execution_count": null,
   "metadata": {
    "collapsed": true,
    "deletable": true,
    "editable": true
   },
   "outputs": [],
   "source": [
    "# Happiness Ranking of continents for 2015.\n",
    "data_15=df_2015[['Region','Happiness Rank']].groupby(['Region'], as_index=False).median()\n",
    "data_15"
   ]
  },
  {
   "cell_type": "markdown",
   "metadata": {
    "deletable": true,
    "editable": true
   },
   "source": [
    "Graphical Representation of Happiness Ranking of Continents for 2015"
   ]
  },
  {
   "cell_type": "code",
   "execution_count": null,
   "metadata": {
    "collapsed": true,
    "deletable": true,
    "editable": true
   },
   "outputs": [],
   "source": [
    "# Imported seaborn library\n",
    "import seaborn as sns\n",
    "sns.barplot(x=\"Region\", y=\"Happiness Rank\", data=data_15)\n",
    "plt.xticks(rotation=90)\n",
    "plt.title('Happiness Rank based on Continents for 2015', fontsize=18)\n",
    "plt.show()"
   ]
  },
  {
   "cell_type": "code",
   "execution_count": null,
   "metadata": {
    "collapsed": true,
    "deletable": true,
    "editable": true
   },
   "outputs": [],
   "source": [
    "# Happiness Ranking of continents for 2016.\n",
    "data_16=df_2016[['Region','Happiness Rank']].groupby(['Region'], as_index=False).median()\n",
    "data_16"
   ]
  },
  {
   "cell_type": "markdown",
   "metadata": {
    "deletable": true,
    "editable": true
   },
   "source": [
    "Graphical Representation of Happiness Ranking of Continents for 2016"
   ]
  },
  {
   "cell_type": "code",
   "execution_count": null,
   "metadata": {
    "collapsed": true,
    "deletable": true,
    "editable": true
   },
   "outputs": [],
   "source": [
    "sns.barplot(x=\"Region\", y=\"Happiness Rank\", data=data_16)\n",
    "plt.xticks(rotation=90)\n",
    "plt.title('Happiness Rank based on Continents for 2016', fontsize=18)\n",
    "plt.show()"
   ]
  },
  {
   "cell_type": "code",
   "execution_count": null,
   "metadata": {
    "collapsed": true,
    "deletable": true,
    "editable": true
   },
   "outputs": [],
   "source": [
    "# Happiness Ranking of continents for 2017.\n",
    "# Since continents attribute was not present in 2017, mapping 2017 dataframe with 2016 dataframe based on countries.\n",
    "map_reg_country17=pd.merge(df_2017,df_2016,left_on='Country', right_on='Country')\n",
    "# Creating new dataframe for 2017 by fetching continents and Happiness Ranking from previously created dataframe.\n",
    "data_17=map_reg_country17[['Region','Happiness.Rank']].groupby(['Region'], as_index=False).median()\n",
    "data_17.columns=['Region', 'Happiness.Rank']\n",
    "data_17"
   ]
  },
  {
   "cell_type": "markdown",
   "metadata": {
    "deletable": true,
    "editable": true
   },
   "source": [
    "Graphical Representation of Happiness Ranking of Continents for 2017"
   ]
  },
  {
   "cell_type": "code",
   "execution_count": null,
   "metadata": {
    "collapsed": true,
    "deletable": true,
    "editable": true
   },
   "outputs": [],
   "source": [
    "sns.barplot(x=\"Region\", y=\"Happiness.Rank\", data=data_17)\n",
    "plt.xticks(rotation=90)\n",
    "plt.title('Happiness Rank based on Continents for 2017', fontsize=18)\n",
    "plt.show()"
   ]
  }
 ],
 "metadata": {
  "kernelspec": {
   "display_name": "Python 2",
   "language": "python",
   "name": "python2"
  },
  "language_info": {
   "codemirror_mode": {
    "name": "ipython",
    "version": 2
   },
   "file_extension": ".py",
   "mimetype": "text/x-python",
   "name": "python",
   "nbconvert_exporter": "python",
   "pygments_lexer": "ipython2",
   "version": "2.7.13"
  }
 },
 "nbformat": 4,
 "nbformat_minor": 2
}
